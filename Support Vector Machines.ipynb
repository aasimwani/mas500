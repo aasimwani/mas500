{
 "metadata": {
  "name": ""
 },
 "nbformat": 3,
 "nbformat_minor": 0,
 "worksheets": [
  {
   "cells": [
    {
     "cell_type": "markdown",
     "metadata": {
      "slideshow": {
       "slide_type": "slide"
      }
     },
     "source": [
      "# Support Vector Machines"
     ]
    },
    {
     "cell_type": "markdown",
     "metadata": {
      "slideshow": {
       "slide_type": "skip"
      }
     },
     "source": [
      "Support vector machines are another algorithm to find a linear separator for given (labeled) data. Unlike the perceptron, SVMs find an optimal \"maximum-margin\" separator, which means that they will try to find the separator with the most space on both sides between the separator and the data.\n",
      "\n",
      "The most basic formulation of the SVM optimization problem is:\n",
      "\n",
      "$$\\min_\\theta \\lvert\\theta\\rvert$$\n",
      "\n",
      "constrained by $y_i (\\theta \\cdot x_i) > 1, i \\in {1, ..., N}$\n",
      "\n",
      "You'll often see the objective function given as $\\min_\\theta \\frac{1}{2}\\lvert\\theta\\rvert^2$, which is equivilent and has to do with how the quadratic optimization is implemented.\n",
      "\n",
      "\n",
      "Notice that multiplying by $y_i$ causes the expression on the LHS to be positive if $\\theta \\cdot x_i$ is in the correct direction, and negative otherwise.\n",
      "\n",
      "To break this down a little, we want to find the $\\theta$ with the smallest magnitude, which seems simple enough. The tricky bit is the constraint. What that is saying is that for all the input data, $\\theta \\cdot x$ must be more than one unit away from zero in the correct direction.\n",
      "\n",
      "If we assume we've performed the minimisation properly, than for the data point closest to the margin, $y (\\theta \\cdot x) = 1$. If it were any less than 1 we would be violating the constraint. If it were any greater than 1 then the optimization would be free to choose a smaller $\\theta$. This gives us an expression for the margin (often called $\\gamma$) of $\\gamma = \\frac{1}{\\lvert \\theta \\rvert}$.\n",
      "\n",
      "## Incorporating Offset\n",
      "\n",
      "So far our classifier is still constrained to run through the origin, but that can easily be remedied by adding an offset term to our constraint and allowing the optimizer to optimize over its value:\n",
      "\n",
      "$$\\min_{\\theta, b} \\lvert\\theta\\rvert$$\n",
      "\n",
      "constrained by $y_i (\\theta \\cdot x_i - b) > 1, i \\in {1, ..., N}$\n",
      "\n",
      "So we allow the optimization to shift the classifier if it provides an improved margin.\n",
      "\n",
      "## Introducing \"Soft Margins\"\n",
      "\n",
      "How does this algorithm handle non-separable data? With the algorithm so far there would be no solution that satisfies the constraints. Similarly, if we have outliers in our data, a single point could move the whole decision boundary. It would be nice to make our classifier a little less sensitive to such common data problems. Luckily a solution exists!\n",
      "\n",
      "Currently our constraint creates a hard margin on all points, and doesn't allow any points to cross it. To soften the margins we will add a sort of fudge factor (or \"Slack\") to each of our data points that allows them to cross the boundary. Remember though, that the optimizer is trying to maximise the margin, so it would be incentivized to create a big margin, even if all the training points violated it. To keep the optimizer under control we include the sum of all these slack terms, so that there is a trade-off between widening the margin and keeping the slack small.\n",
      "\n",
      "Mathematically, this looks like\n",
      "\n",
      "$$\n",
      "\\min_{\\theta, b, \\xi} \\hspace{1em} \\lvert\\theta\\rvert + C\\sum^N_{i = 1}\\xi_i\n",
      "$$\n",
      "\n",
      "constrained by\n",
      "\n",
      "$$\n",
      "y_i (\\theta \\cdot x_i - b) > 1 - \\xi_i,\\hspace{1em} i \\in {1, ..., N}\n",
      "$$\n",
      "\n",
      "Notice that the $C$ parameter allows us to adjust the weight assigned to $\\xi$.\n",
      "\n",
      "What happens if $C = 0$? What about $C = \\infty$?"
     ]
    },
    {
     "cell_type": "markdown",
     "metadata": {
      "slideshow": {
       "slide_type": "slide"
      }
     },
     "source": [
      "* Another algorithm to train a linear classifier\n",
      "* finds \"max-margin\" separator"
     ]
    },
    {
     "cell_type": "markdown",
     "metadata": {
      "slideshow": {
       "slide_type": "slide"
      }
     },
     "source": [
      "The most basic formulation of the SVM optimization problem is:\n",
      "\n",
      "$$\\min_\\theta \\lvert\\theta\\rvert$$\n",
      "\n",
      "constrained by $y_i (\\theta \\cdot x_i) > 1, i \\in \\{1, ..., N\\}$"
     ]
    },
    {
     "cell_type": "markdown",
     "metadata": {
      "slideshow": {
       "slide_type": "fragment"
      }
     },
     "source": [
      "NB: You'll often see the objective function given as $\\min_\\theta \\frac{1}{2}\\lvert\\theta\\rvert^2$, which is equivilent and has to do with how the quadratic optimization is implemented."
     ]
    },
    {
     "cell_type": "markdown",
     "metadata": {
      "slideshow": {
       "slide_type": "fragment"
      }
     },
     "source": [
      "Notice that multiplying by $y_i$ causes the expression on the LHS to be positive if $\\theta \\cdot x_i$ is in the correct direction, and negative otherwise"
     ]
    },
    {
     "cell_type": "markdown",
     "metadata": {
      "slideshow": {
       "slide_type": "slide"
      }
     },
     "source": [
      "# Calculating the Margin\n",
      "\n",
      "### $\\min_\\theta \\lvert\\theta\\rvert$ constrained by $y_i (\\theta \\cdot x_i) > 1$\n",
      "\n",
      "For the data point(s) closest to the margin, $y (\\theta \\cdot x) = 1$.\n"
     ]
    },
    {
     "cell_type": "markdown",
     "metadata": {
      "slideshow": {
       "slide_type": "fragment"
      }
     },
     "source": [
      "If it were any less than 1 we would be violating the constraint.\n"
     ]
    },
    {
     "cell_type": "markdown",
     "metadata": {
      "slideshow": {
       "slide_type": "fragment"
      }
     },
     "source": [
      "If it were any greater than 1 then the optimization would be free to choose a smaller $\\theta$.\n"
     ]
    },
    {
     "cell_type": "markdown",
     "metadata": {
      "slideshow": {
       "slide_type": "fragment"
      }
     },
     "source": [
      "This gives us an expression for the margin (often called $\\gamma$) of $\\gamma = \\frac{1}{\\lvert \\theta \\rvert}$."
     ]
    },
    {
     "cell_type": "markdown",
     "metadata": {
      "slideshow": {
       "slide_type": "slide"
      }
     },
     "source": [
      "# Incorporating Offset\n",
      "\n",
      "### $\\min_\\theta \\lvert\\theta\\rvert$ constrained by $y_i (\\theta \\cdot x_i) > 1$\n",
      "\n",
      "So far our classifier is still constrained to run through the origin, but that can easily be remedied by adding an offset term to our constraint and allowing the optimizer to optimize over its value:\n",
      "\n"
     ]
    },
    {
     "cell_type": "markdown",
     "metadata": {
      "slideshow": {
       "slide_type": "fragment"
      }
     },
     "source": [
      "$$\\min_{\\theta, b} \\lvert\\theta\\rvert$$\n",
      "\n",
      "constrained by $y_i (\\theta \\cdot x_i - b) > 1, i \\in {1, ..., N}$"
     ]
    },
    {
     "cell_type": "markdown",
     "metadata": {
      "slideshow": {
       "slide_type": "slide"
      }
     },
     "source": [
      "# Soft Margins\n",
      "\n",
      "### $\\min_\\theta \\lvert\\theta\\rvert$ constrained by $y_i (\\theta \\cdot x_i) > 1, i \\in {1, ..., N}$"
     ]
    },
    {
     "cell_type": "markdown",
     "metadata": {
      "slideshow": {
       "slide_type": "fragment"
      }
     },
     "source": [
      "What if the data is non-separable?"
     ]
    },
    {
     "cell_type": "markdown",
     "metadata": {
      "slideshow": {
       "slide_type": "fragment"
      }
     },
     "source": [
      "We need Slack"
     ]
    },
    {
     "cell_type": "markdown",
     "metadata": {
      "slideshow": {
       "slide_type": "fragment"
      }
     },
     "source": [
      "But not too much..."
     ]
    },
    {
     "cell_type": "markdown",
     "metadata": {
      "slideshow": {
       "slide_type": "slide"
      }
     },
     "source": [
      "# More Maths\n",
      "\n",
      "$$\n",
      "\\min_{\\theta, b, \\xi} \\hspace{1em} \\lvert\\theta\\rvert + C\\sum^N_{i = 1}\\xi_i\n",
      "$$\n",
      "\n",
      "constrained by\n",
      "\n",
      "$$\n",
      "y_i (\\theta \\cdot x_i - b) > 1 - \\xi_i, \\hspace{1em} \\xi_i >= 0, \\hspace{1em} i \\in \\{1, ..., N\\}\n",
      "$$"
     ]
    },
    {
     "cell_type": "markdown",
     "metadata": {
      "slideshow": {
       "slide_type": "fragment"
      }
     },
     "source": [
      "Notice that the $C$ parameter allows us to adjust the weight assigned to $\\xi$."
     ]
    },
    {
     "cell_type": "markdown",
     "metadata": {
      "slideshow": {
       "slide_type": "fragment"
      }
     },
     "source": [
      "What happens if $C = 0$? What about $C = \\infty$?"
     ]
    },
    {
     "cell_type": "code",
     "collapsed": false,
     "input": [
      "X, Y, clf = demo_svm(100, C=0.7)\n",
      "\n",
      "plot_svm(X, Y, clf)"
     ],
     "language": "python",
     "metadata": {
      "slideshow": {
       "slide_type": "slide"
      }
     },
     "outputs": [
      {
       "output_type": "stream",
       "stream": "stdout",
       "text": [
        "2 support vectors\n"
       ]
      },
      {
       "metadata": {},
       "output_type": "display_data",
       "png": "[encoded data removed]",
       "text": [
        "<matplotlib.figure.Figure at 0x3f94410>"
       ]
      }
     ],
     "prompt_number": 37
    },
    {
     "cell_type": "markdown",
     "metadata": {
      "slideshow": {
       "slide_type": "slide"
      }
     },
     "source": [
      "## Some other acronyms\n",
      "\n",
      "* SVC - Support Vector Classifier(used in scikit-learn)\n",
      "* SMO - Sequential Minimal Optimization (a common implementation, esp. for higher-dimensional tasks)"
     ]
    },
    {
     "cell_type": "markdown",
     "metadata": {
      "slideshow": {
       "slide_type": "skip"
      }
     },
     "source": [
      "# Utility Code"
     ]
    },
    {
     "cell_type": "code",
     "collapsed": false,
     "input": [
      "import numpy as np\n",
      "import matplotlib.pylab as pl\n",
      "from sklearn import svm\n",
      "\n",
      "# adapted from http://scikit-learn.org/stable/auto_examples/svm/plot_separating_hyperplane.html\n",
      "def plot_svm(X, Y, classifier, ax=None):\n",
      "    # get the separating hyperplane\n",
      "    w = classifier.coef_[0]\n",
      "    a = -w[0] / w[1]\n",
      "    xx = np.linspace(-5, 5)\n",
      "    yy = a * xx - (classifier.intercept_[0]) / w[1]\n",
      "\n",
      "    # plot the parallels to the separating hyperplane indicating the margin\n",
      "    margin = 1 / np.linalg.norm(classifier.coef_)\n",
      "    xx_down = xx - w[0] / (np.linalg.norm(w) ** 2)\n",
      "    yy_down = yy - w[1] / (np.linalg.norm(w) ** 2)\n",
      "    xx_up = xx + w[0] / (np.linalg.norm(w) ** 2)\n",
      "    yy_up = yy + w[1] / (np.linalg.norm(w) ** 2)\n",
      "    \n",
      "    if ax is None:\n",
      "        fig = pl.figure(figsize=(8, 8))\n",
      "        ax = fig.add_subplot(1, 1, 1, xlim=[-5,5], ylim=[-5,5])\n",
      "        ax.grid(True)\n",
      "\n",
      "    # plot the line, the points, and the nearest vectors to the plane\n",
      "    ax.plot(xx, yy, 'k-')\n",
      "    ax.plot(xx_down, yy_down, 'k--')\n",
      "    ax.plot(xx_up, yy_up, 'k--')\n",
      "\n",
      "    ax.scatter(classifier.support_vectors_[:, 0], classifier.support_vectors_[:, 1],\n",
      "           s=80, facecolors='none')\n",
      "    ax.scatter(X[:, 0], X[:, 1], c=Y, cmap=pl.cm.Paired)\n",
      "\n",
      "def demo_svm(N, C=10):\n",
      "    np.random.seed(0)\n",
      "    # note that np.r_ concatenates the given arrays along their first axis\n",
      "    X = np.r_[np.random.randn(N/2, 2) - [2, 2], np.random.randn(N/2, 2) + [2, 2]]\n",
      "    Y = np.r_[np.zeros(N/2), np.ones(N/2)]\n",
      "\n",
      "    # fit the model\n",
      "    clf = svm.SVC(kernel='linear', C=C)\n",
      "    clf.fit(X, Y)\n",
      "\n",
      "    print(\"%d support vectors\" % len(clf.support_))\n",
      "    return X, Y, clf"
     ],
     "language": "python",
     "metadata": {
      "slideshow": {
       "slide_type": "skip"
      }
     },
     "outputs": [],
     "prompt_number": 32
    }
   ],
   "metadata": {}
  }
 ]
}