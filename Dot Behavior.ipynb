{
 "metadata": {
  "name": ""
 },
 "nbformat": 3,
 "nbformat_minor": 0,
 "worksheets": [
  {
   "cells": [
    {
     "cell_type": "code",
     "collapsed": false,
     "input": [
      "import numpy as np\n",
      "\n",
      "v = np.array([1, 2, 3, 4])\n",
      "print(\"v.shape: %s\" % (v.shape, ))\n",
      "\n",
      "m14 = np.array([[1, 2, 3, 4]])\n",
      "print(\"m14.shape: %s\" % (m14.shape,))\n",
      "\n",
      "m41 = np.array([[1], [2], [3], [4]])\n",
      "print(\"m41.shape: %s\" % (m41.shape, ))\n",
      "\n",
      "print(\"\\nWhen used with 2 2d arrays (matrices), dot is matrix multiplication\")\n",
      "print(\"m14 . m41 = %s\" % (m14.dot(m41),))\n",
      "print(\"m41 . m14 = \\n%s\" % (m41.dot(m14),))\n",
      "\n",
      "# this throws \"objects are not aligned\" error\n",
      "# m41.dot(m41)\n",
      "\n",
      "print(\"\\nWhen used with 2 1d arrays, dot is a dot product, x^Tx (if x is considered a column vector)\")\n",
      "print(\"v . v = %s\" % (v.dot(v),))\n",
      "\n",
      "print(\"\"\"\\nWhen mixing 1d and 2d arrays, a 1d array on the left is treated as a row matrix,\n",
      "and on the right as a column matrix\"\"\")\n",
      "print(\"v . m41 = %s\" % (v.dot(m41),))\n",
      "print(\"m14 . v = %s\" % (m14.dot(v),))\n",
      "\n",
      "print(\"\"\"\\n\\nGeneral Rule: dot means matrix multiply, and 1d arrays on the left are treated as row matrices,\n",
      "and on the right as column matrices\"\"\")"
     ],
     "language": "python",
     "metadata": {},
     "outputs": [
      {
       "output_type": "stream",
       "stream": "stdout",
       "text": [
        "v.shape: (4,)\n",
        "m14.shape: (1, 4)\n",
        "m41.shape: (4, 1)\n",
        "\n",
        "When used with 2 2d arrays (matrices), dot is matrix multiplication\n",
        "m14 . m41 = [[30]]\n",
        "m41 . m14 = \n",
        "[[ 1  2  3  4]\n",
        " [ 2  4  6  8]\n",
        " [ 3  6  9 12]\n",
        " [ 4  8 12 16]]\n",
        "\n",
        "When used with 2 1d arrays, dot is a dot product, x^Tx (if x is considered a column vector)\n",
        "v . v = 30\n",
        "\n",
        "When mixing 1d and 2d arrays, a 1d array on the left is treated as a row matrix,\n",
        "and on the right as a column matrix\n",
        "v . m41 = [30]\n",
        "m14 . v = [30]\n",
        "\n",
        "\n",
        "General Rule: dot means matrix multiply, and 1d arrays on the left are treated as row matrices,\n",
        "and on the right as column matrices\n"
       ]
      }
     ],
     "prompt_number": 42
    },
    {
     "cell_type": "code",
     "collapsed": false,
     "input": [],
     "language": "python",
     "metadata": {},
     "outputs": []
    }
   ],
   "metadata": {}
  }
 ]
}