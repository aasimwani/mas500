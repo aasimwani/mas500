{
 "metadata": {
  "name": ""
 },
 "nbformat": 3,
 "nbformat_minor": 0,
 "worksheets": [
  {
   "cells": [
    {
     "cell_type": "heading",
     "level": 1,
     "metadata": {
      "slideshow": {
       "slide_type": "slide"
      }
     },
     "source": [
      "The Scientific Python Ecosystem"
     ]
    },
    {
     "cell_type": "markdown",
     "metadata": {
      "slideshow": {
       "slide_type": "slide"
      }
     },
     "source": [
      "## Python\n",
      "\n",
      "* General puropose programming language\n",
      "* Great libraries for interfacing with serial ports, HTTP APIs, and more! (All the things)"
     ]
    },
    {
     "cell_type": "markdown",
     "metadata": {
      "slideshow": {
       "slide_type": "slide"
      }
     },
     "source": [
      "## numpy\n",
      "\n",
      "Library providing multidimensional arrays (vectors, matrices)\n",
      "Lots of the tight loops are written in C for speed"
     ]
    },
    {
     "cell_type": "markdown",
     "metadata": {
      "slideshow": {
       "slide_type": "slide"
      }
     },
     "source": [
      "## matplotlib\n",
      "\n",
      "* Library for plotting from python\n",
      "* Knows how to handle numpy arrays\n",
      "* Designed with a matlab-like API"
     ]
    },
    {
     "cell_type": "markdown",
     "metadata": {
      "slideshow": {
       "slide_type": "slide"
      }
     },
     "source": [
      "## pandas\n",
      "\n",
      "* Data analysis package, influenced by R's DataFrames architecture\n",
      "* Great for bringing in external data, dropping some, joining data together, etc."
     ]
    },
    {
     "cell_type": "markdown",
     "metadata": {
      "slideshow": {
       "slide_type": "slide"
      }
     },
     "source": [
      "## scipy\n",
      "\n",
      "* meta-package to bring together resources for scientific computing in python\n",
      "* includes numpy, ipython, matplotlib, pandas, and sympy\n",
      "* also includes additional implementations for commonly-used functionality (stats, optimization, etc.)"
     ]
    },
    {
     "cell_type": "markdown",
     "metadata": {
      "slideshow": {
       "slide_type": "slide"
      }
     },
     "source": [
      "## scikit-learn\n",
      "\n",
      "* separate package with lots of machine learning implementations\n",
      "* built to work with numpy data"
     ]
    },
    {
     "cell_type": "markdown",
     "metadata": {
      "slideshow": {
       "slide_type": "slide"
      }
     },
     "source": [
      "## IPython\n",
      "\n",
      "* a nicer shell for command-line interaction\n",
      "* also can serve the IPython Notebook (which you're using now)\n",
      "* cells can render Markdown\n",
      "* supports $\\LaTeX$ directives like $\\int \\! e^x \\, \\mathrm{d}x$\n",
      "* integrates with matplotlib to display plots in-line\n",
      "* generated plots are saved inside the notebook\n",
      "* tab-completion and documentation lookup"
     ]
    },
    {
     "cell_type": "code",
     "collapsed": false,
     "input": [
      "import numpy as np\n",
      "import matplotlib.pyplot as pl\n",
      "\n",
      "fig = pl.hist(np.random.randn(1000), bins=20)"
     ],
     "language": "python",
     "metadata": {
      "slideshow": {
       "slide_type": "slide"
      }
     },
     "outputs": [
      {
       "metadata": {},
       "output_type": "display_data",
       "png": "[encoded data removed]",
       "text": [
        "<matplotlib.figure.Figure at 0x3c81310>"
       ]
      }
     ],
     "prompt_number": 26
    }
   ],
   "metadata": {}
  }
 ]
}